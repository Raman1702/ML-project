{
 "cells": [
  {
   "cell_type": "code",
   "execution_count": 9,
   "metadata": {},
   "outputs": [],
   "source": [
    "import numpy as np\n",
    "import pandas as pd\n",
    "from sklearn.feature_extraction.text import CountVectorizer\n",
    "from sklearn.model_selection import train_test_split\n",
    "from sklearn.naive_bayes import MultinomialNB"
   ]
  },
  {
   "cell_type": "markdown",
   "metadata": {},
   "source": [
    "## Multinomial Naive Bayes"
   ]
  },
  {
   "cell_type": "code",
   "execution_count": 18,
   "metadata": {
    "scrolled": true
   },
   "outputs": [],
   "source": [
    "def email_spam_classifier(training_file, testing_file):\n",
    "    \n",
    "    # ----------------------    \n",
    "    # --- training phase ---\n",
    "    # ----------------------\n",
    "    df = pd.read_csv(training_file, sep='\\n', header=None, names=['message'])\n",
    "    df['label'] = df['message'].str.split(' ').str[0]\n",
    "    # print(df.head())\n",
    "\n",
    "    # 0 is ham, 1 is spam\n",
    "    # print(df['label'].value_counts())\n",
    "\n",
    "    df_x = df[\"message\"] #all email content\n",
    "    df_y = df[\"label\"]   #spam/ham label in 1/0 as int\n",
    "\n",
    "    #split the 4000 (.8) emails for training, 1000 (.2) for validating\n",
    "    X_train, X_test, y_train, y_test = train_test_split(df_x, df_y, test_size = .2, random_state = 42)\n",
    " \n",
    "    #transform words into int with Countvectorizer\n",
    "    cv = CountVectorizer()\n",
    "    X_traincv = cv.fit_transform(X_train)\n",
    "    X_testcv = cv.transform(X_test)\n",
    "    \n",
    "    #produce an int array from y_train\n",
    "    y_train = y_train.astype(int)\n",
    "    \n",
    "    #call the classifier from sklearn library\n",
    "    mnb = MultinomialNB()\n",
    "    #train the model\n",
    "    mnb.fit(X_traincv, y_train)\n",
    "    \n",
    "    pred_train = mnb.predict(X_traincv)\n",
    "    y_train = np.array(y_train).astype(int)\n",
    "    count_train=0\n",
    "    for i in range(len(pred_train)):\n",
    "        if pred_train[i] == y_train[i]: #compare validation predicion vs y_test reuslt\n",
    "            count_train=count_train+1\n",
    "    print(\"The training's accuracy is: \",count_train/len(pred_train)) \n",
    "    \n",
    "\n",
    "    # ------------------------\n",
    "    # --- Validating phase ---\n",
    "    # ------------------------\n",
    "    #validating the model\n",
    "    pred = mnb.predict(X_testcv)\n",
    "    \n",
    "    #produce an int array from y_train\n",
    "    y_test = np.array(y_test).astype(int) \n",
    "\n",
    "    count=0\n",
    "    for i in range(len(pred)):\n",
    "        if pred[i] == y_test[i]: #compare validation predicion vs y_test reuslt\n",
    "            count=count+1\n",
    "    #calculate the accuracy of the classifier's prediction\n",
    "    print(\"The validating's accuracy is: \",count/len(pred)) \n",
    "\n",
    "\n",
    "    # ---------------------\n",
    "    # --- testing phase ---\n",
    "    # ---------------------\n",
    "    test_raw_data = pd.read_csv(testing_file, sep='\\n', header=None, names=['message_test'])\n",
    "    test_raw_data['label_test'] = test_raw_data['message_test'].str.split(' ').str[0]\n",
    "    test_X = test_raw_data[\"message_test\"] #all email content\n",
    "    test_y = test_raw_data[\"label_test\"]   #spam/ham label in 1/0 format\n",
    "    test_X_cv = cv.transform(test_X)\n",
    "    pred_test = mnb.predict(test_X_cv)\n",
    "    test_y = np.array(test_y).astype(int)\n",
    "\n",
    "    count_test=0\n",
    "    for i in range(len(pred_test)):\n",
    "        if pred_test[i] == test_y[i]: #compare validation predicion vs y_test reuslt\n",
    "            count_test=count_test+1\n",
    "    print(\"The testing's accuracy is: \",count_test/len(pred_test)) #calculate the accuracy of the classifier's prediction"
   ]
  },
  {
   "cell_type": "markdown",
   "metadata": {
    "collapsed": true
   },
   "source": [
    "###### Execution Code Below for MNB:"
   ]
  },
  {
   "cell_type": "code",
   "execution_count": null,
   "metadata": {},
   "outputs": [],
   "source": [
    "training_file = \"spam_train.txt\"\n",
    "testing_file = \"spam_test.txt\"\n",
    "email_spam_classifier(training_file, testing_file)"
   ]
  },
  {
   "cell_type": "markdown",
   "metadata": {},
   "source": [
    "## Gaussian Naive Bayes"
   ]
  },
  {
   "cell_type": "code",
   "execution_count": null,
   "metadata": {},
   "outputs": [],
   "source": []
  },
  {
   "cell_type": "markdown",
   "metadata": {},
   "source": [
    "## Bernoulli Naive Bayes"
   ]
  },
  {
   "cell_type": "code",
   "execution_count": null,
   "metadata": {},
   "outputs": [],
   "source": []
  }
 ],
 "metadata": {
  "kernelspec": {
   "display_name": "Python 3",
   "language": "python",
   "name": "python3"
  },
  "language_info": {
   "codemirror_mode": {
    "name": "ipython",
    "version": 3
   },
   "file_extension": ".py",
   "mimetype": "text/x-python",
   "name": "python",
   "nbconvert_exporter": "python",
   "pygments_lexer": "ipython3",
   "version": "3.6.3"
  }
 },
 "nbformat": 4,
 "nbformat_minor": 2
}
